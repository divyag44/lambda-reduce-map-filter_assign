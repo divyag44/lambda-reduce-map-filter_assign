{
 "cells": [
  {
   "cell_type": "markdown",
   "id": "9ed401bf-f628-44e2-a5e7-a177c2653838",
   "metadata": {},
   "source": [
    "### Q1. Create a python program to sort the given list of tuples based on integer value using a lambda function.\n",
    "[('Sachin Tendulkar', 34357), ('Ricky Ponting', 27483), ('Jack Kallis', 25534), ('Virat Kohli', 24936)]"
   ]
  },
  {
   "cell_type": "code",
   "execution_count": 1,
   "id": "a08faf2b-5c48-4366-b843-eb3dfb6e0ae5",
   "metadata": {},
   "outputs": [],
   "source": [
    "#answer\n",
    "l=[\"Sachin Tendulkar: 34357,\" \"Ricky Ponting:27483\", \"Jack Kallis: 25534\", \"Virat Kohli:24936\"]"
   ]
  },
  {
   "cell_type": "code",
   "execution_count": 17,
   "id": "49740d84-4d7b-47c9-82f0-79182da15284",
   "metadata": {},
   "outputs": [
    {
     "data": {
      "text/plain": [
       "['Sachin Tendulkar: 34357,Ricky Ponting:27483',\n",
       " 'Jack Kallis: 25534',\n",
       " 'Virat Kohli:24936']"
      ]
     },
     "execution_count": 17,
     "metadata": {},
     "output_type": "execute_result"
    }
   ],
   "source": [
    "list(filter(lambda x: str(x) , l))"
   ]
  },
  {
   "cell_type": "markdown",
   "id": "d25a93d1-66bd-4208-8240-f69e3ae49101",
   "metadata": {},
   "source": [
    "### Q2. Write a Python Program to find the squares of all the numbers in the given list of integers using lambda and map functions.\n",
    "[1, 2, 3, 4, 5, 6, 7, 8, 9, 10]"
   ]
  },
  {
   "cell_type": "code",
   "execution_count": 4,
   "id": "81db269e-44d1-40a1-874f-22338d3f1fd7",
   "metadata": {},
   "outputs": [],
   "source": [
    "#example\n",
    "l2=[1, 2, 3, 4, 5, 6, 7, 8, 9, 10]"
   ]
  },
  {
   "cell_type": "code",
   "execution_count": 18,
   "id": "cb8869c8-a8a0-4fff-8cdc-1c30c9dd9f3a",
   "metadata": {},
   "outputs": [
    {
     "data": {
      "text/plain": [
       "[1, 4, 9, 16, 25, 36, 49, 64, 81, 100]"
      ]
     },
     "execution_count": 18,
     "metadata": {},
     "output_type": "execute_result"
    }
   ],
   "source": [
    "list(map(lambda x:x**2,l2))"
   ]
  },
  {
   "cell_type": "markdown",
   "id": "eafc4027-178d-4362-84f2-374307389e53",
   "metadata": {},
   "source": [
    "### Q3. Write a python program to convert the given list of integers into a tuple of strings. Use map and lambda functions Given String: [1, 2, 3, 4, 5, 6, 7, 8, 9, 10] Expected output: ('1', '2', '3', '4', '5', '6', '7', '8', '9', '10')"
   ]
  },
  {
   "cell_type": "code",
   "execution_count": 19,
   "id": "f42a8970-584b-4fe6-9a7e-8d52b031a070",
   "metadata": {},
   "outputs": [],
   "source": [
    "l3= [1, 2, 3, 4, 5, 6, 7, 8, 9, 10] "
   ]
  },
  {
   "cell_type": "code",
   "execution_count": 20,
   "id": "d9338ed5-6deb-40da-a990-bf00690fe1c3",
   "metadata": {},
   "outputs": [
    {
     "data": {
      "text/plain": [
       "['1', '2', '3', '4', '5', '6', '7', '8', '9', '10']"
      ]
     },
     "execution_count": 20,
     "metadata": {},
     "output_type": "execute_result"
    }
   ],
   "source": [
    "list(map(lambda x : str(x) ,l3))"
   ]
  },
  {
   "cell_type": "markdown",
   "id": "8a71bc3b-4c70-4c75-a28c-a9f059726f3a",
   "metadata": {},
   "source": [
    "### Q4. Write a python program using reduce function to compute the product of a list containing numbers from 1 to 25."
   ]
  },
  {
   "cell_type": "code",
   "execution_count": 22,
   "id": "9edee8fe-1fe8-4c98-812a-7e268c675d67",
   "metadata": {},
   "outputs": [],
   "source": [
    "from functools import reduce"
   ]
  },
  {
   "cell_type": "code",
   "execution_count": 29,
   "id": "6eef9ec9-19f0-46e4-b89a-23c8f8f76493",
   "metadata": {},
   "outputs": [],
   "source": [
    "l4=range(1,25)"
   ]
  },
  {
   "cell_type": "code",
   "execution_count": 32,
   "id": "ad5d2291-043c-4c6f-a1a6-d83e54fd9c46",
   "metadata": {},
   "outputs": [
    {
     "data": {
      "text/plain": [
       "620448401733239439360000"
      ]
     },
     "execution_count": 32,
     "metadata": {},
     "output_type": "execute_result"
    }
   ],
   "source": [
    "reduce(lambda x,y:x*y,l4)"
   ]
  },
  {
   "cell_type": "markdown",
   "id": "a4f49946-5ae9-4f07-b19c-02fd46f71d0d",
   "metadata": {},
   "source": [
    "### Q5. Write a python program to filter the numbers in a given list that are divisible by 2 and 3 using the filter function.\n",
    "[2, 3, 6, 9, 27, 60, 90, 120, 55, 46]"
   ]
  },
  {
   "cell_type": "code",
   "execution_count": 33,
   "id": "6fc92279-9eee-4adf-a4c0-4bc8700e43f9",
   "metadata": {},
   "outputs": [],
   "source": [
    "l5=[2, 3, 6, 9, 27, 60, 90, 120, 55, 46]"
   ]
  },
  {
   "cell_type": "code",
   "execution_count": 43,
   "id": "4f107ea3-30f9-4805-8f8c-179da06a647c",
   "metadata": {},
   "outputs": [
    {
     "data": {
      "text/plain": [
       "[2, 3, 6, 9, 27, 60, 90, 120, 46]"
      ]
     },
     "execution_count": 43,
     "metadata": {},
     "output_type": "execute_result"
    }
   ],
   "source": [
    "list(filter(lambda x:x%2==0 or x%3==0,l5))"
   ]
  },
  {
   "cell_type": "markdown",
   "id": "c170f4eb-a1f7-4033-8b58-e1d40419cf78",
   "metadata": {},
   "source": [
    "### Q6.write a python program to find the pallindromes in the given list of strings using lambda and given functions.['python', 'php', 'aba', 'radar', 'level']"
   ]
  },
  {
   "cell_type": "code",
   "execution_count": 52,
   "id": "2873eb83-eed4-4562-8f91-3f71f9b1e8ae",
   "metadata": {},
   "outputs": [],
   "source": [
    "l6=[\"python\", \"php\", \"aba\", \"radar\", \"level\"]"
   ]
  },
  {
   "cell_type": "code",
   "execution_count": 55,
   "id": "43383a3f-334b-42e2-b63c-cbb13edf7dfe",
   "metadata": {},
   "outputs": [
    {
     "data": {
      "text/plain": [
       "['php', 'aba', 'radar', 'level']"
      ]
     },
     "execution_count": 55,
     "metadata": {},
     "output_type": "execute_result"
    }
   ],
   "source": [
    "list(filter(lambda x: (x == \"\".join(reversed(x))), l6))"
   ]
  },
  {
   "cell_type": "code",
   "execution_count": null,
   "id": "257d196b-e11a-4f42-981a-4a0680ba6fd0",
   "metadata": {},
   "outputs": [],
   "source": []
  }
 ],
 "metadata": {
  "kernelspec": {
   "display_name": "Python 3 (ipykernel)",
   "language": "python",
   "name": "python3"
  },
  "language_info": {
   "codemirror_mode": {
    "name": "ipython",
    "version": 3
   },
   "file_extension": ".py",
   "mimetype": "text/x-python",
   "name": "python",
   "nbconvert_exporter": "python",
   "pygments_lexer": "ipython3",
   "version": "3.10.8"
  }
 },
 "nbformat": 4,
 "nbformat_minor": 5
}
